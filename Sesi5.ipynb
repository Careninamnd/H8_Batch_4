{
 "cells": [
  {
   "attachments": {},
   "cell_type": "markdown",
   "metadata": {},
   "source": [
    "# PANDAS\n"
   ]
  },
  {
   "cell_type": "code",
   "execution_count": 71,
   "metadata": {},
   "outputs": [
    {
     "name": "stdout",
     "output_type": "stream",
     "text": [
      "Collecting package metadata (current_repodata.json): ...working... done\n",
      "Solving environment: ...working... done\n",
      "\n",
      "# All requested packages already installed.\n",
      "\n",
      "Retrieving notices: ...working... done\n",
      "\n",
      "Note: you may need to restart the kernel to use updated packages.\n"
     ]
    },
    {
     "name": "stderr",
     "output_type": "stream",
     "text": [
      "\n",
      "\n",
      "==> WARNING: A newer version of conda exists. <==\n",
      "  current version: 22.9.0\n",
      "  latest version: 23.3.1\n",
      "\n",
      "Please update conda by running\n",
      "\n",
      "    $ conda update -n base -c defaults conda\n",
      "\n",
      "\n"
     ]
    }
   ],
   "source": [
    "conda install pandas"
   ]
  },
  {
   "cell_type": "code",
   "execution_count": 72,
   "metadata": {},
   "outputs": [],
   "source": [
    "import numpy as np\n",
    "import pandas as pd"
   ]
  },
  {
   "cell_type": "code",
   "execution_count": 73,
   "metadata": {},
   "outputs": [],
   "source": [
    "data = pd.read_csv('https://raw.githubusercontent.com/ardhiraka/PFDS_sources/master/nbaallelo.csv')"
   ]
  },
  {
   "cell_type": "code",
   "execution_count": 74,
   "metadata": {},
   "outputs": [
    {
     "data": {
      "text/plain": [
       "126314"
      ]
     },
     "execution_count": 74,
     "metadata": {},
     "output_type": "execute_result"
    }
   ],
   "source": [
    "len(data)"
   ]
  },
  {
   "cell_type": "code",
   "execution_count": 75,
   "metadata": {},
   "outputs": [
    {
     "data": {
      "text/plain": [
       "(126314, 23)"
      ]
     },
     "execution_count": 75,
     "metadata": {},
     "output_type": "execute_result"
    }
   ],
   "source": [
    "data.shape"
   ]
  },
  {
   "cell_type": "code",
   "execution_count": 76,
   "metadata": {},
   "outputs": [
    {
     "data": {
      "text/html": [
       "<div>\n",
       "<style scoped>\n",
       "    .dataframe tbody tr th:only-of-type {\n",
       "        vertical-align: middle;\n",
       "    }\n",
       "\n",
       "    .dataframe tbody tr th {\n",
       "        vertical-align: top;\n",
       "    }\n",
       "\n",
       "    .dataframe thead th {\n",
       "        text-align: right;\n",
       "    }\n",
       "</style>\n",
       "<table border=\"1\" class=\"dataframe\">\n",
       "  <thead>\n",
       "    <tr style=\"text-align: right;\">\n",
       "      <th></th>\n",
       "      <th>gameorder</th>\n",
       "      <th>game_id</th>\n",
       "      <th>lg_id</th>\n",
       "      <th>_iscopy</th>\n",
       "      <th>year_id</th>\n",
       "      <th>date_game</th>\n",
       "      <th>seasongame</th>\n",
       "      <th>is_playoffs</th>\n",
       "      <th>team_id</th>\n",
       "      <th>fran_id</th>\n",
       "      <th>pts</th>\n",
       "      <th>elo_i</th>\n",
       "      <th>elo_n</th>\n",
       "      <th>win_equiv</th>\n",
       "      <th>opp_id</th>\n",
       "      <th>opp_fran</th>\n",
       "      <th>opp_pts</th>\n",
       "      <th>opp_elo_i</th>\n",
       "      <th>opp_elo_n</th>\n",
       "      <th>game_location</th>\n",
       "      <th>game_result</th>\n",
       "      <th>forecast</th>\n",
       "      <th>notes</th>\n",
       "    </tr>\n",
       "  </thead>\n",
       "  <tbody>\n",
       "    <tr>\n",
       "      <th>0</th>\n",
       "      <td>1</td>\n",
       "      <td>194611010TRH</td>\n",
       "      <td>NBA</td>\n",
       "      <td>0</td>\n",
       "      <td>1947</td>\n",
       "      <td>11/1/1946</td>\n",
       "      <td>1</td>\n",
       "      <td>0</td>\n",
       "      <td>TRH</td>\n",
       "      <td>Huskies</td>\n",
       "      <td>66</td>\n",
       "      <td>1300.00</td>\n",
       "      <td>1293.28</td>\n",
       "      <td>40.29</td>\n",
       "      <td>NYK</td>\n",
       "      <td>Knicks</td>\n",
       "      <td>68</td>\n",
       "      <td>1300.00</td>\n",
       "      <td>1306.72</td>\n",
       "      <td>H</td>\n",
       "      <td>L</td>\n",
       "      <td>0.64</td>\n",
       "      <td>NaN</td>\n",
       "    </tr>\n",
       "    <tr>\n",
       "      <th>1</th>\n",
       "      <td>1</td>\n",
       "      <td>194611010TRH</td>\n",
       "      <td>NBA</td>\n",
       "      <td>1</td>\n",
       "      <td>1947</td>\n",
       "      <td>11/1/1946</td>\n",
       "      <td>1</td>\n",
       "      <td>0</td>\n",
       "      <td>NYK</td>\n",
       "      <td>Knicks</td>\n",
       "      <td>68</td>\n",
       "      <td>1300.00</td>\n",
       "      <td>1306.72</td>\n",
       "      <td>41.71</td>\n",
       "      <td>TRH</td>\n",
       "      <td>Huskies</td>\n",
       "      <td>66</td>\n",
       "      <td>1300.00</td>\n",
       "      <td>1293.28</td>\n",
       "      <td>A</td>\n",
       "      <td>W</td>\n",
       "      <td>0.36</td>\n",
       "      <td>NaN</td>\n",
       "    </tr>\n",
       "    <tr>\n",
       "      <th>2</th>\n",
       "      <td>2</td>\n",
       "      <td>194611020CHS</td>\n",
       "      <td>NBA</td>\n",
       "      <td>0</td>\n",
       "      <td>1947</td>\n",
       "      <td>11/2/1946</td>\n",
       "      <td>1</td>\n",
       "      <td>0</td>\n",
       "      <td>CHS</td>\n",
       "      <td>Stags</td>\n",
       "      <td>63</td>\n",
       "      <td>1300.00</td>\n",
       "      <td>1309.65</td>\n",
       "      <td>42.01</td>\n",
       "      <td>NYK</td>\n",
       "      <td>Knicks</td>\n",
       "      <td>47</td>\n",
       "      <td>1306.72</td>\n",
       "      <td>1297.07</td>\n",
       "      <td>H</td>\n",
       "      <td>W</td>\n",
       "      <td>0.63</td>\n",
       "      <td>NaN</td>\n",
       "    </tr>\n",
       "    <tr>\n",
       "      <th>3</th>\n",
       "      <td>2</td>\n",
       "      <td>194611020CHS</td>\n",
       "      <td>NBA</td>\n",
       "      <td>1</td>\n",
       "      <td>1947</td>\n",
       "      <td>11/2/1946</td>\n",
       "      <td>2</td>\n",
       "      <td>0</td>\n",
       "      <td>NYK</td>\n",
       "      <td>Knicks</td>\n",
       "      <td>47</td>\n",
       "      <td>1306.72</td>\n",
       "      <td>1297.07</td>\n",
       "      <td>40.69</td>\n",
       "      <td>CHS</td>\n",
       "      <td>Stags</td>\n",
       "      <td>63</td>\n",
       "      <td>1300.00</td>\n",
       "      <td>1309.65</td>\n",
       "      <td>A</td>\n",
       "      <td>L</td>\n",
       "      <td>0.37</td>\n",
       "      <td>NaN</td>\n",
       "    </tr>\n",
       "    <tr>\n",
       "      <th>4</th>\n",
       "      <td>3</td>\n",
       "      <td>194611020DTF</td>\n",
       "      <td>NBA</td>\n",
       "      <td>0</td>\n",
       "      <td>1947</td>\n",
       "      <td>11/2/1946</td>\n",
       "      <td>1</td>\n",
       "      <td>0</td>\n",
       "      <td>DTF</td>\n",
       "      <td>Falcons</td>\n",
       "      <td>33</td>\n",
       "      <td>1300.00</td>\n",
       "      <td>1279.62</td>\n",
       "      <td>38.86</td>\n",
       "      <td>WSC</td>\n",
       "      <td>Capitols</td>\n",
       "      <td>50</td>\n",
       "      <td>1300.00</td>\n",
       "      <td>1320.38</td>\n",
       "      <td>H</td>\n",
       "      <td>L</td>\n",
       "      <td>0.64</td>\n",
       "      <td>NaN</td>\n",
       "    </tr>\n",
       "  </tbody>\n",
       "</table>\n",
       "</div>"
      ],
      "text/plain": [
       "   gameorder       game_id lg_id  _iscopy  year_id  date_game  seasongame  \\\n",
       "0          1  194611010TRH   NBA        0     1947  11/1/1946           1   \n",
       "1          1  194611010TRH   NBA        1     1947  11/1/1946           1   \n",
       "2          2  194611020CHS   NBA        0     1947  11/2/1946           1   \n",
       "3          2  194611020CHS   NBA        1     1947  11/2/1946           2   \n",
       "4          3  194611020DTF   NBA        0     1947  11/2/1946           1   \n",
       "\n",
       "   is_playoffs team_id  fran_id  pts    elo_i    elo_n  win_equiv opp_id  \\\n",
       "0            0     TRH  Huskies   66  1300.00  1293.28      40.29    NYK   \n",
       "1            0     NYK   Knicks   68  1300.00  1306.72      41.71    TRH   \n",
       "2            0     CHS    Stags   63  1300.00  1309.65      42.01    NYK   \n",
       "3            0     NYK   Knicks   47  1306.72  1297.07      40.69    CHS   \n",
       "4            0     DTF  Falcons   33  1300.00  1279.62      38.86    WSC   \n",
       "\n",
       "   opp_fran  opp_pts  opp_elo_i  opp_elo_n game_location game_result  \\\n",
       "0    Knicks       68    1300.00    1306.72             H           L   \n",
       "1   Huskies       66    1300.00    1293.28             A           W   \n",
       "2    Knicks       47    1306.72    1297.07             H           W   \n",
       "3     Stags       63    1300.00    1309.65             A           L   \n",
       "4  Capitols       50    1300.00    1320.38             H           L   \n",
       "\n",
       "   forecast notes  \n",
       "0      0.64   NaN  \n",
       "1      0.36   NaN  \n",
       "2      0.63   NaN  \n",
       "3      0.37   NaN  \n",
       "4      0.64   NaN  "
      ]
     },
     "execution_count": 76,
     "metadata": {},
     "output_type": "execute_result"
    }
   ],
   "source": [
    "data.head()"
   ]
  },
  {
   "cell_type": "code",
   "execution_count": 77,
   "metadata": {},
   "outputs": [],
   "source": [
    "pd.set_option(\"display.max.columns\", None)"
   ]
  },
  {
   "cell_type": "code",
   "execution_count": 78,
   "metadata": {},
   "outputs": [],
   "source": [
    "pd.set_option(\"display.precision\", 2)"
   ]
  },
  {
   "cell_type": "code",
   "execution_count": 79,
   "metadata": {},
   "outputs": [
    {
     "data": {
      "text/html": [
       "<div>\n",
       "<style scoped>\n",
       "    .dataframe tbody tr th:only-of-type {\n",
       "        vertical-align: middle;\n",
       "    }\n",
       "\n",
       "    .dataframe tbody tr th {\n",
       "        vertical-align: top;\n",
       "    }\n",
       "\n",
       "    .dataframe thead th {\n",
       "        text-align: right;\n",
       "    }\n",
       "</style>\n",
       "<table border=\"1\" class=\"dataframe\">\n",
       "  <thead>\n",
       "    <tr style=\"text-align: right;\">\n",
       "      <th></th>\n",
       "      <th>gameorder</th>\n",
       "      <th>game_id</th>\n",
       "      <th>lg_id</th>\n",
       "      <th>_iscopy</th>\n",
       "      <th>year_id</th>\n",
       "      <th>date_game</th>\n",
       "      <th>seasongame</th>\n",
       "      <th>is_playoffs</th>\n",
       "      <th>team_id</th>\n",
       "      <th>fran_id</th>\n",
       "      <th>pts</th>\n",
       "      <th>elo_i</th>\n",
       "      <th>elo_n</th>\n",
       "      <th>win_equiv</th>\n",
       "      <th>opp_id</th>\n",
       "      <th>opp_fran</th>\n",
       "      <th>opp_pts</th>\n",
       "      <th>opp_elo_i</th>\n",
       "      <th>opp_elo_n</th>\n",
       "      <th>game_location</th>\n",
       "      <th>game_result</th>\n",
       "      <th>forecast</th>\n",
       "      <th>notes</th>\n",
       "    </tr>\n",
       "  </thead>\n",
       "  <tbody>\n",
       "    <tr>\n",
       "      <th>126309</th>\n",
       "      <td>63155</td>\n",
       "      <td>201506110CLE</td>\n",
       "      <td>NBA</td>\n",
       "      <td>0</td>\n",
       "      <td>2015</td>\n",
       "      <td>6/11/2015</td>\n",
       "      <td>100</td>\n",
       "      <td>1</td>\n",
       "      <td>CLE</td>\n",
       "      <td>Cavaliers</td>\n",
       "      <td>82</td>\n",
       "      <td>1723.41</td>\n",
       "      <td>1704.39</td>\n",
       "      <td>60.31</td>\n",
       "      <td>GSW</td>\n",
       "      <td>Warriors</td>\n",
       "      <td>103</td>\n",
       "      <td>1790.96</td>\n",
       "      <td>1809.98</td>\n",
       "      <td>H</td>\n",
       "      <td>L</td>\n",
       "      <td>0.55</td>\n",
       "      <td>NaN</td>\n",
       "    </tr>\n",
       "    <tr>\n",
       "      <th>126310</th>\n",
       "      <td>63156</td>\n",
       "      <td>201506140GSW</td>\n",
       "      <td>NBA</td>\n",
       "      <td>0</td>\n",
       "      <td>2015</td>\n",
       "      <td>6/14/2015</td>\n",
       "      <td>102</td>\n",
       "      <td>1</td>\n",
       "      <td>GSW</td>\n",
       "      <td>Warriors</td>\n",
       "      <td>104</td>\n",
       "      <td>1809.98</td>\n",
       "      <td>1813.63</td>\n",
       "      <td>68.01</td>\n",
       "      <td>CLE</td>\n",
       "      <td>Cavaliers</td>\n",
       "      <td>91</td>\n",
       "      <td>1704.39</td>\n",
       "      <td>1700.74</td>\n",
       "      <td>H</td>\n",
       "      <td>W</td>\n",
       "      <td>0.77</td>\n",
       "      <td>NaN</td>\n",
       "    </tr>\n",
       "    <tr>\n",
       "      <th>126311</th>\n",
       "      <td>63156</td>\n",
       "      <td>201506140GSW</td>\n",
       "      <td>NBA</td>\n",
       "      <td>1</td>\n",
       "      <td>2015</td>\n",
       "      <td>6/14/2015</td>\n",
       "      <td>101</td>\n",
       "      <td>1</td>\n",
       "      <td>CLE</td>\n",
       "      <td>Cavaliers</td>\n",
       "      <td>91</td>\n",
       "      <td>1704.39</td>\n",
       "      <td>1700.74</td>\n",
       "      <td>60.01</td>\n",
       "      <td>GSW</td>\n",
       "      <td>Warriors</td>\n",
       "      <td>104</td>\n",
       "      <td>1809.98</td>\n",
       "      <td>1813.63</td>\n",
       "      <td>A</td>\n",
       "      <td>L</td>\n",
       "      <td>0.23</td>\n",
       "      <td>NaN</td>\n",
       "    </tr>\n",
       "    <tr>\n",
       "      <th>126312</th>\n",
       "      <td>63157</td>\n",
       "      <td>201506170CLE</td>\n",
       "      <td>NBA</td>\n",
       "      <td>0</td>\n",
       "      <td>2015</td>\n",
       "      <td>6/16/2015</td>\n",
       "      <td>102</td>\n",
       "      <td>1</td>\n",
       "      <td>CLE</td>\n",
       "      <td>Cavaliers</td>\n",
       "      <td>97</td>\n",
       "      <td>1700.74</td>\n",
       "      <td>1692.09</td>\n",
       "      <td>59.29</td>\n",
       "      <td>GSW</td>\n",
       "      <td>Warriors</td>\n",
       "      <td>105</td>\n",
       "      <td>1813.63</td>\n",
       "      <td>1822.29</td>\n",
       "      <td>H</td>\n",
       "      <td>L</td>\n",
       "      <td>0.48</td>\n",
       "      <td>NaN</td>\n",
       "    </tr>\n",
       "    <tr>\n",
       "      <th>126313</th>\n",
       "      <td>63157</td>\n",
       "      <td>201506170CLE</td>\n",
       "      <td>NBA</td>\n",
       "      <td>1</td>\n",
       "      <td>2015</td>\n",
       "      <td>6/16/2015</td>\n",
       "      <td>103</td>\n",
       "      <td>1</td>\n",
       "      <td>GSW</td>\n",
       "      <td>Warriors</td>\n",
       "      <td>105</td>\n",
       "      <td>1813.63</td>\n",
       "      <td>1822.29</td>\n",
       "      <td>68.52</td>\n",
       "      <td>CLE</td>\n",
       "      <td>Cavaliers</td>\n",
       "      <td>97</td>\n",
       "      <td>1700.74</td>\n",
       "      <td>1692.09</td>\n",
       "      <td>A</td>\n",
       "      <td>W</td>\n",
       "      <td>0.52</td>\n",
       "      <td>NaN</td>\n",
       "    </tr>\n",
       "  </tbody>\n",
       "</table>\n",
       "</div>"
      ],
      "text/plain": [
       "        gameorder       game_id lg_id  _iscopy  year_id  date_game  \\\n",
       "126309      63155  201506110CLE   NBA        0     2015  6/11/2015   \n",
       "126310      63156  201506140GSW   NBA        0     2015  6/14/2015   \n",
       "126311      63156  201506140GSW   NBA        1     2015  6/14/2015   \n",
       "126312      63157  201506170CLE   NBA        0     2015  6/16/2015   \n",
       "126313      63157  201506170CLE   NBA        1     2015  6/16/2015   \n",
       "\n",
       "        seasongame  is_playoffs team_id    fran_id  pts    elo_i    elo_n  \\\n",
       "126309         100            1     CLE  Cavaliers   82  1723.41  1704.39   \n",
       "126310         102            1     GSW   Warriors  104  1809.98  1813.63   \n",
       "126311         101            1     CLE  Cavaliers   91  1704.39  1700.74   \n",
       "126312         102            1     CLE  Cavaliers   97  1700.74  1692.09   \n",
       "126313         103            1     GSW   Warriors  105  1813.63  1822.29   \n",
       "\n",
       "        win_equiv opp_id   opp_fran  opp_pts  opp_elo_i  opp_elo_n  \\\n",
       "126309      60.31    GSW   Warriors      103    1790.96    1809.98   \n",
       "126310      68.01    CLE  Cavaliers       91    1704.39    1700.74   \n",
       "126311      60.01    GSW   Warriors      104    1809.98    1813.63   \n",
       "126312      59.29    GSW   Warriors      105    1813.63    1822.29   \n",
       "126313      68.52    CLE  Cavaliers       97    1700.74    1692.09   \n",
       "\n",
       "       game_location game_result  forecast notes  \n",
       "126309             H           L      0.55   NaN  \n",
       "126310             H           W      0.77   NaN  \n",
       "126311             A           L      0.23   NaN  \n",
       "126312             H           L      0.48   NaN  \n",
       "126313             A           W      0.52   NaN  "
      ]
     },
     "execution_count": 79,
     "metadata": {},
     "output_type": "execute_result"
    }
   ],
   "source": [
    "data.tail()"
   ]
  },
  {
   "cell_type": "code",
   "execution_count": 80,
   "metadata": {},
   "outputs": [
    {
     "data": {
      "text/html": [
       "<div>\n",
       "<style scoped>\n",
       "    .dataframe tbody tr th:only-of-type {\n",
       "        vertical-align: middle;\n",
       "    }\n",
       "\n",
       "    .dataframe tbody tr th {\n",
       "        vertical-align: top;\n",
       "    }\n",
       "\n",
       "    .dataframe thead th {\n",
       "        text-align: right;\n",
       "    }\n",
       "</style>\n",
       "<table border=\"1\" class=\"dataframe\">\n",
       "  <thead>\n",
       "    <tr style=\"text-align: right;\">\n",
       "      <th></th>\n",
       "      <th>gameorder</th>\n",
       "      <th>game_id</th>\n",
       "      <th>lg_id</th>\n",
       "      <th>_iscopy</th>\n",
       "      <th>year_id</th>\n",
       "      <th>date_game</th>\n",
       "      <th>seasongame</th>\n",
       "      <th>is_playoffs</th>\n",
       "      <th>team_id</th>\n",
       "      <th>fran_id</th>\n",
       "      <th>pts</th>\n",
       "      <th>elo_i</th>\n",
       "      <th>elo_n</th>\n",
       "      <th>win_equiv</th>\n",
       "      <th>opp_id</th>\n",
       "      <th>opp_fran</th>\n",
       "      <th>opp_pts</th>\n",
       "      <th>opp_elo_i</th>\n",
       "      <th>opp_elo_n</th>\n",
       "      <th>game_location</th>\n",
       "      <th>game_result</th>\n",
       "      <th>forecast</th>\n",
       "      <th>notes</th>\n",
       "    </tr>\n",
       "  </thead>\n",
       "  <tbody>\n",
       "    <tr>\n",
       "      <th>126311</th>\n",
       "      <td>63156</td>\n",
       "      <td>201506140GSW</td>\n",
       "      <td>NBA</td>\n",
       "      <td>1</td>\n",
       "      <td>2015</td>\n",
       "      <td>6/14/2015</td>\n",
       "      <td>101</td>\n",
       "      <td>1</td>\n",
       "      <td>CLE</td>\n",
       "      <td>Cavaliers</td>\n",
       "      <td>91</td>\n",
       "      <td>1704.39</td>\n",
       "      <td>1700.74</td>\n",
       "      <td>60.01</td>\n",
       "      <td>GSW</td>\n",
       "      <td>Warriors</td>\n",
       "      <td>104</td>\n",
       "      <td>1809.98</td>\n",
       "      <td>1813.63</td>\n",
       "      <td>A</td>\n",
       "      <td>L</td>\n",
       "      <td>0.23</td>\n",
       "      <td>NaN</td>\n",
       "    </tr>\n",
       "    <tr>\n",
       "      <th>126312</th>\n",
       "      <td>63157</td>\n",
       "      <td>201506170CLE</td>\n",
       "      <td>NBA</td>\n",
       "      <td>0</td>\n",
       "      <td>2015</td>\n",
       "      <td>6/16/2015</td>\n",
       "      <td>102</td>\n",
       "      <td>1</td>\n",
       "      <td>CLE</td>\n",
       "      <td>Cavaliers</td>\n",
       "      <td>97</td>\n",
       "      <td>1700.74</td>\n",
       "      <td>1692.09</td>\n",
       "      <td>59.29</td>\n",
       "      <td>GSW</td>\n",
       "      <td>Warriors</td>\n",
       "      <td>105</td>\n",
       "      <td>1813.63</td>\n",
       "      <td>1822.29</td>\n",
       "      <td>H</td>\n",
       "      <td>L</td>\n",
       "      <td>0.48</td>\n",
       "      <td>NaN</td>\n",
       "    </tr>\n",
       "    <tr>\n",
       "      <th>126313</th>\n",
       "      <td>63157</td>\n",
       "      <td>201506170CLE</td>\n",
       "      <td>NBA</td>\n",
       "      <td>1</td>\n",
       "      <td>2015</td>\n",
       "      <td>6/16/2015</td>\n",
       "      <td>103</td>\n",
       "      <td>1</td>\n",
       "      <td>GSW</td>\n",
       "      <td>Warriors</td>\n",
       "      <td>105</td>\n",
       "      <td>1813.63</td>\n",
       "      <td>1822.29</td>\n",
       "      <td>68.52</td>\n",
       "      <td>CLE</td>\n",
       "      <td>Cavaliers</td>\n",
       "      <td>97</td>\n",
       "      <td>1700.74</td>\n",
       "      <td>1692.09</td>\n",
       "      <td>A</td>\n",
       "      <td>W</td>\n",
       "      <td>0.52</td>\n",
       "      <td>NaN</td>\n",
       "    </tr>\n",
       "  </tbody>\n",
       "</table>\n",
       "</div>"
      ],
      "text/plain": [
       "        gameorder       game_id lg_id  _iscopy  year_id  date_game  \\\n",
       "126311      63156  201506140GSW   NBA        1     2015  6/14/2015   \n",
       "126312      63157  201506170CLE   NBA        0     2015  6/16/2015   \n",
       "126313      63157  201506170CLE   NBA        1     2015  6/16/2015   \n",
       "\n",
       "        seasongame  is_playoffs team_id    fran_id  pts    elo_i    elo_n  \\\n",
       "126311         101            1     CLE  Cavaliers   91  1704.39  1700.74   \n",
       "126312         102            1     CLE  Cavaliers   97  1700.74  1692.09   \n",
       "126313         103            1     GSW   Warriors  105  1813.63  1822.29   \n",
       "\n",
       "        win_equiv opp_id   opp_fran  opp_pts  opp_elo_i  opp_elo_n  \\\n",
       "126311      60.01    GSW   Warriors      104    1809.98    1813.63   \n",
       "126312      59.29    GSW   Warriors      105    1813.63    1822.29   \n",
       "126313      68.52    CLE  Cavaliers       97    1700.74    1692.09   \n",
       "\n",
       "       game_location game_result  forecast notes  \n",
       "126311             A           L      0.23   NaN  \n",
       "126312             H           L      0.48   NaN  \n",
       "126313             A           W      0.52   NaN  "
      ]
     },
     "execution_count": 80,
     "metadata": {},
     "output_type": "execute_result"
    }
   ],
   "source": [
    "data.tail(3)"
   ]
  },
  {
   "cell_type": "code",
   "execution_count": 81,
   "metadata": {},
   "outputs": [
    {
     "name": "stdout",
     "output_type": "stream",
     "text": [
      "<class 'pandas.core.frame.DataFrame'>\n",
      "RangeIndex: 126314 entries, 0 to 126313\n",
      "Data columns (total 23 columns):\n",
      " #   Column         Non-Null Count   Dtype  \n",
      "---  ------         --------------   -----  \n",
      " 0   gameorder      126314 non-null  int64  \n",
      " 1   game_id        126314 non-null  object \n",
      " 2   lg_id          126314 non-null  object \n",
      " 3   _iscopy        126314 non-null  int64  \n",
      " 4   year_id        126314 non-null  int64  \n",
      " 5   date_game      126314 non-null  object \n",
      " 6   seasongame     126314 non-null  int64  \n",
      " 7   is_playoffs    126314 non-null  int64  \n",
      " 8   team_id        126314 non-null  object \n",
      " 9   fran_id        126314 non-null  object \n",
      " 10  pts            126314 non-null  int64  \n",
      " 11  elo_i          126314 non-null  float64\n",
      " 12  elo_n          126314 non-null  float64\n",
      " 13  win_equiv      126314 non-null  float64\n",
      " 14  opp_id         126314 non-null  object \n",
      " 15  opp_fran       126314 non-null  object \n",
      " 16  opp_pts        126314 non-null  int64  \n",
      " 17  opp_elo_i      126314 non-null  float64\n",
      " 18  opp_elo_n      126314 non-null  float64\n",
      " 19  game_location  126314 non-null  object \n",
      " 20  game_result    126314 non-null  object \n",
      " 21  forecast       126314 non-null  float64\n",
      " 22  notes          5424 non-null    object \n",
      "dtypes: float64(6), int64(7), object(10)\n",
      "memory usage: 22.2+ MB\n"
     ]
    }
   ],
   "source": [
    "data.info()"
   ]
  },
  {
   "attachments": {},
   "cell_type": "markdown",
   "metadata": {},
   "source": [
    "# Showing Basics Statistics"
   ]
  },
  {
   "cell_type": "code",
   "execution_count": 82,
   "metadata": {},
   "outputs": [
    {
     "data": {
      "text/html": [
       "<div>\n",
       "<style scoped>\n",
       "    .dataframe tbody tr th:only-of-type {\n",
       "        vertical-align: middle;\n",
       "    }\n",
       "\n",
       "    .dataframe tbody tr th {\n",
       "        vertical-align: top;\n",
       "    }\n",
       "\n",
       "    .dataframe thead th {\n",
       "        text-align: right;\n",
       "    }\n",
       "</style>\n",
       "<table border=\"1\" class=\"dataframe\">\n",
       "  <thead>\n",
       "    <tr style=\"text-align: right;\">\n",
       "      <th></th>\n",
       "      <th>gameorder</th>\n",
       "      <th>_iscopy</th>\n",
       "      <th>year_id</th>\n",
       "      <th>seasongame</th>\n",
       "      <th>is_playoffs</th>\n",
       "      <th>pts</th>\n",
       "      <th>elo_i</th>\n",
       "      <th>elo_n</th>\n",
       "      <th>win_equiv</th>\n",
       "      <th>opp_pts</th>\n",
       "      <th>opp_elo_i</th>\n",
       "      <th>opp_elo_n</th>\n",
       "      <th>forecast</th>\n",
       "    </tr>\n",
       "  </thead>\n",
       "  <tbody>\n",
       "    <tr>\n",
       "      <th>count</th>\n",
       "      <td>126314.00</td>\n",
       "      <td>126314.0</td>\n",
       "      <td>126314.00</td>\n",
       "      <td>126314.00</td>\n",
       "      <td>126314.00</td>\n",
       "      <td>126314.00</td>\n",
       "      <td>126314.00</td>\n",
       "      <td>126314.00</td>\n",
       "      <td>126314.00</td>\n",
       "      <td>126314.00</td>\n",
       "      <td>126314.00</td>\n",
       "      <td>126314.00</td>\n",
       "      <td>126314.00</td>\n",
       "    </tr>\n",
       "    <tr>\n",
       "      <th>mean</th>\n",
       "      <td>31579.00</td>\n",
       "      <td>0.5</td>\n",
       "      <td>1988.20</td>\n",
       "      <td>43.53</td>\n",
       "      <td>0.06</td>\n",
       "      <td>102.73</td>\n",
       "      <td>1495.24</td>\n",
       "      <td>1495.24</td>\n",
       "      <td>41.71</td>\n",
       "      <td>102.73</td>\n",
       "      <td>1495.24</td>\n",
       "      <td>1495.24</td>\n",
       "      <td>0.50</td>\n",
       "    </tr>\n",
       "    <tr>\n",
       "      <th>std</th>\n",
       "      <td>18231.93</td>\n",
       "      <td>0.5</td>\n",
       "      <td>17.58</td>\n",
       "      <td>25.38</td>\n",
       "      <td>0.24</td>\n",
       "      <td>14.81</td>\n",
       "      <td>112.14</td>\n",
       "      <td>112.46</td>\n",
       "      <td>10.63</td>\n",
       "      <td>14.81</td>\n",
       "      <td>112.14</td>\n",
       "      <td>112.46</td>\n",
       "      <td>0.22</td>\n",
       "    </tr>\n",
       "    <tr>\n",
       "      <th>min</th>\n",
       "      <td>1.00</td>\n",
       "      <td>0.0</td>\n",
       "      <td>1947.00</td>\n",
       "      <td>1.00</td>\n",
       "      <td>0.00</td>\n",
       "      <td>0.00</td>\n",
       "      <td>1091.64</td>\n",
       "      <td>1085.77</td>\n",
       "      <td>10.15</td>\n",
       "      <td>0.00</td>\n",
       "      <td>1091.64</td>\n",
       "      <td>1085.77</td>\n",
       "      <td>0.02</td>\n",
       "    </tr>\n",
       "    <tr>\n",
       "      <th>25%</th>\n",
       "      <td>15790.00</td>\n",
       "      <td>0.0</td>\n",
       "      <td>1975.00</td>\n",
       "      <td>22.00</td>\n",
       "      <td>0.00</td>\n",
       "      <td>93.00</td>\n",
       "      <td>1417.24</td>\n",
       "      <td>1416.99</td>\n",
       "      <td>34.10</td>\n",
       "      <td>93.00</td>\n",
       "      <td>1417.24</td>\n",
       "      <td>1416.99</td>\n",
       "      <td>0.33</td>\n",
       "    </tr>\n",
       "    <tr>\n",
       "      <th>50%</th>\n",
       "      <td>31579.00</td>\n",
       "      <td>0.5</td>\n",
       "      <td>1990.00</td>\n",
       "      <td>43.00</td>\n",
       "      <td>0.00</td>\n",
       "      <td>103.00</td>\n",
       "      <td>1500.95</td>\n",
       "      <td>1500.95</td>\n",
       "      <td>42.11</td>\n",
       "      <td>103.00</td>\n",
       "      <td>1500.95</td>\n",
       "      <td>1500.95</td>\n",
       "      <td>0.50</td>\n",
       "    </tr>\n",
       "    <tr>\n",
       "      <th>75%</th>\n",
       "      <td>47368.00</td>\n",
       "      <td>1.0</td>\n",
       "      <td>2003.00</td>\n",
       "      <td>65.00</td>\n",
       "      <td>0.00</td>\n",
       "      <td>112.00</td>\n",
       "      <td>1576.06</td>\n",
       "      <td>1576.29</td>\n",
       "      <td>49.64</td>\n",
       "      <td>112.00</td>\n",
       "      <td>1576.06</td>\n",
       "      <td>1576.29</td>\n",
       "      <td>0.67</td>\n",
       "    </tr>\n",
       "    <tr>\n",
       "      <th>max</th>\n",
       "      <td>63157.00</td>\n",
       "      <td>1.0</td>\n",
       "      <td>2015.00</td>\n",
       "      <td>108.00</td>\n",
       "      <td>1.00</td>\n",
       "      <td>186.00</td>\n",
       "      <td>1853.10</td>\n",
       "      <td>1853.10</td>\n",
       "      <td>71.11</td>\n",
       "      <td>186.00</td>\n",
       "      <td>1853.10</td>\n",
       "      <td>1853.10</td>\n",
       "      <td>0.98</td>\n",
       "    </tr>\n",
       "  </tbody>\n",
       "</table>\n",
       "</div>"
      ],
      "text/plain": [
       "       gameorder   _iscopy    year_id  seasongame  is_playoffs        pts  \\\n",
       "count  126314.00  126314.0  126314.00   126314.00    126314.00  126314.00   \n",
       "mean    31579.00       0.5    1988.20       43.53         0.06     102.73   \n",
       "std     18231.93       0.5      17.58       25.38         0.24      14.81   \n",
       "min         1.00       0.0    1947.00        1.00         0.00       0.00   \n",
       "25%     15790.00       0.0    1975.00       22.00         0.00      93.00   \n",
       "50%     31579.00       0.5    1990.00       43.00         0.00     103.00   \n",
       "75%     47368.00       1.0    2003.00       65.00         0.00     112.00   \n",
       "max     63157.00       1.0    2015.00      108.00         1.00     186.00   \n",
       "\n",
       "           elo_i      elo_n  win_equiv    opp_pts  opp_elo_i  opp_elo_n  \\\n",
       "count  126314.00  126314.00  126314.00  126314.00  126314.00  126314.00   \n",
       "mean     1495.24    1495.24      41.71     102.73    1495.24    1495.24   \n",
       "std       112.14     112.46      10.63      14.81     112.14     112.46   \n",
       "min      1091.64    1085.77      10.15       0.00    1091.64    1085.77   \n",
       "25%      1417.24    1416.99      34.10      93.00    1417.24    1416.99   \n",
       "50%      1500.95    1500.95      42.11     103.00    1500.95    1500.95   \n",
       "75%      1576.06    1576.29      49.64     112.00    1576.06    1576.29   \n",
       "max      1853.10    1853.10      71.11     186.00    1853.10    1853.10   \n",
       "\n",
       "        forecast  \n",
       "count  126314.00  \n",
       "mean        0.50  \n",
       "std         0.22  \n",
       "min         0.02  \n",
       "25%         0.33  \n",
       "50%         0.50  \n",
       "75%         0.67  \n",
       "max         0.98  "
      ]
     },
     "execution_count": 82,
     "metadata": {},
     "output_type": "execute_result"
    }
   ],
   "source": [
    "data.describe()"
   ]
  },
  {
   "attachments": {},
   "cell_type": "markdown",
   "metadata": {},
   "source": [
    "# Exploring Your Dataset"
   ]
  },
  {
   "cell_type": "code",
   "execution_count": 83,
   "metadata": {},
   "outputs": [
    {
     "data": {
      "text/plain": [
       "BOS    5997\n",
       "NYK    5769\n",
       "LAL    5078\n",
       "DET    4985\n",
       "PHI    4533\n",
       "       ... \n",
       "INJ      60\n",
       "PIT      60\n",
       "DTF      60\n",
       "TRH      60\n",
       "SDS      11\n",
       "Name: team_id, Length: 104, dtype: int64"
      ]
     },
     "execution_count": 83,
     "metadata": {},
     "output_type": "execute_result"
    }
   ],
   "source": [
    "data[\"team_id\"].value_counts()"
   ]
  },
  {
   "cell_type": "code",
   "execution_count": 84,
   "metadata": {},
   "outputs": [
    {
     "data": {
      "text/plain": [
       "Lakers          6024\n",
       "Celtics         5997\n",
       "Knicks          5769\n",
       "Warriors        5657\n",
       "Pistons         5650\n",
       "Sixers          5644\n",
       "Hawks           5572\n",
       "Kings           5475\n",
       "Wizards         4582\n",
       "Spurs           4309\n",
       "Bulls           4307\n",
       "Pacers          4227\n",
       "Thunder         4178\n",
       "Rockets         4154\n",
       "Nuggets         4120\n",
       "Nets            4106\n",
       "Suns            4080\n",
       "Bucks           4034\n",
       "Trailblazers    3870\n",
       "Cavaliers       3810\n",
       "Clippers        3733\n",
       "Jazz            3555\n",
       "Mavericks       3013\n",
       "Heat            2371\n",
       "Pelicans        2254\n",
       "Magic           2207\n",
       "Timberwolves    2131\n",
       "Grizzlies       1657\n",
       "Raptors         1634\n",
       "Hornets          894\n",
       "Colonels         846\n",
       "Squires          799\n",
       "Spirits          777\n",
       "Stars            756\n",
       "Sounds           697\n",
       "Baltimore        467\n",
       "Floridians       440\n",
       "Condors          430\n",
       "Capitols         291\n",
       "Olympians        282\n",
       "Sails            274\n",
       "Stags            260\n",
       "Bombers          249\n",
       "Steamrollers     168\n",
       "Packers           72\n",
       "Redskins          65\n",
       "Rebels            63\n",
       "Waterloo          62\n",
       "Denver            62\n",
       "Falcons           60\n",
       "Jets              60\n",
       "Ironmen           60\n",
       "Huskies           60\n",
       "Name: fran_id, dtype: int64"
      ]
     },
     "execution_count": 84,
     "metadata": {},
     "output_type": "execute_result"
    }
   ],
   "source": [
    "data[\"fran_id\"].value_counts()"
   ]
  },
  {
   "cell_type": "code",
   "execution_count": 85,
   "metadata": {},
   "outputs": [
    {
     "data": {
      "text/plain": [
       "LAL    5078\n",
       "MNL     946\n",
       "Name: team_id, dtype: int64"
      ]
     },
     "execution_count": 85,
     "metadata": {},
     "output_type": "execute_result"
    }
   ],
   "source": [
    "data.loc[data[\"fran_id\"]== \"Lakers\", \"team_id\"].value_counts()"
   ]
  },
  {
   "cell_type": "code",
   "execution_count": 86,
   "metadata": {},
   "outputs": [
    {
     "data": {
      "text/plain": [
       "'1/1/1949'"
      ]
     },
     "execution_count": 86,
     "metadata": {},
     "output_type": "execute_result"
    }
   ],
   "source": [
    "data.loc[data[\"team_id\"]== \"MNL\", \"date_game\"].min()"
   ]
  },
  {
   "cell_type": "code",
   "execution_count": 87,
   "metadata": {},
   "outputs": [],
   "source": [
    "import numpy as np\n",
    "import pandas as pd\n",
    "data = pd.read_csv('https://raw.githubusercontent.com/ardhiraka/PFDS_sources/master/nbaallelo.csv')"
   ]
  },
  {
   "cell_type": "code",
   "execution_count": 88,
   "metadata": {},
   "outputs": [
    {
     "data": {
      "text/plain": [
       "'4/9/1959'"
      ]
     },
     "execution_count": 88,
     "metadata": {},
     "output_type": "execute_result"
    }
   ],
   "source": [
    "data.loc[data[\"team_id\"]== \"MNL\", \"date_game\"].max()"
   ]
  },
  {
   "cell_type": "code",
   "execution_count": 89,
   "metadata": {},
   "outputs": [
    {
     "data": {
      "text/plain": [
       "min    1/1/1949\n",
       "max    4/9/1959\n",
       "Name: date_game, dtype: object"
      ]
     },
     "execution_count": 89,
     "metadata": {},
     "output_type": "execute_result"
    }
   ],
   "source": [
    "data.loc[data[\"team_id\"]== \"MNL\", \"date_game\"].agg((\"min\", \"max\"))"
   ]
  },
  {
   "cell_type": "code",
   "execution_count": 90,
   "metadata": {},
   "outputs": [
    {
     "data": {
      "text/plain": [
       "626484"
      ]
     },
     "execution_count": 90,
     "metadata": {},
     "output_type": "execute_result"
    }
   ],
   "source": [
    "data.loc[data[\"team_id\"] == \"BOS\", \"pts\"].sum()"
   ]
  },
  {
   "attachments": {},
   "cell_type": "markdown",
   "metadata": {},
   "source": [
    "# Pandas Data Structures\n",
    "\n",
    "Understanding Series Objects"
   ]
  },
  {
   "cell_type": "code",
   "execution_count": 91,
   "metadata": {},
   "outputs": [],
   "source": [
    "revenues = pd.Series([5555,7000,1980])"
   ]
  },
  {
   "cell_type": "code",
   "execution_count": 92,
   "metadata": {},
   "outputs": [
    {
     "data": {
      "text/plain": [
       "0    5555\n",
       "1    7000\n",
       "2    1980\n",
       "dtype: int64"
      ]
     },
     "execution_count": 92,
     "metadata": {},
     "output_type": "execute_result"
    }
   ],
   "source": [
    "revenues"
   ]
  },
  {
   "cell_type": "code",
   "execution_count": 93,
   "metadata": {},
   "outputs": [
    {
     "data": {
      "text/plain": [
       "array([5555, 7000, 1980], dtype=int64)"
      ]
     },
     "execution_count": 93,
     "metadata": {},
     "output_type": "execute_result"
    }
   ],
   "source": [
    "revenues.values"
   ]
  },
  {
   "cell_type": "code",
   "execution_count": 94,
   "metadata": {},
   "outputs": [
    {
     "data": {
      "text/plain": [
       "RangeIndex(start=0, stop=3, step=1)"
      ]
     },
     "execution_count": 94,
     "metadata": {},
     "output_type": "execute_result"
    }
   ],
   "source": [
    "revenues.index"
   ]
  },
  {
   "cell_type": "code",
   "execution_count": 95,
   "metadata": {},
   "outputs": [
    {
     "data": {
      "text/plain": [
       "Amsterdam    4200\n",
       "Toronto      8000\n",
       "Tokyo        6500\n",
       "dtype: int64"
      ]
     },
     "execution_count": 95,
     "metadata": {},
     "output_type": "execute_result"
    }
   ],
   "source": [
    "city_revenues = pd.Series(\n",
    "    [4200, 8000, 6500],\n",
    "    index = [\"Amsterdam\", \"Toronto\", \"Tokyo\"]\n",
    ")\n",
    "city_revenues"
   ]
  },
  {
   "cell_type": "code",
   "execution_count": 96,
   "metadata": {},
   "outputs": [
    {
     "data": {
      "text/plain": [
       "Amsterdam    5\n",
       "Tokyo        8\n",
       "dtype: int64"
      ]
     },
     "execution_count": 96,
     "metadata": {},
     "output_type": "execute_result"
    }
   ],
   "source": [
    "city__employee_count = pd.Series({\"Amsterdam\": 5, \"Tokyo\": 8})\n",
    "city__employee_count"
   ]
  },
  {
   "cell_type": "code",
   "execution_count": 97,
   "metadata": {},
   "outputs": [
    {
     "data": {
      "text/plain": [
       "Index(['Amsterdam', 'Tokyo'], dtype='object')"
      ]
     },
     "execution_count": 97,
     "metadata": {},
     "output_type": "execute_result"
    }
   ],
   "source": [
    "city__employee_count.keys()"
   ]
  },
  {
   "cell_type": "code",
   "execution_count": 98,
   "metadata": {},
   "outputs": [
    {
     "data": {
      "text/plain": [
       "True"
      ]
     },
     "execution_count": 98,
     "metadata": {},
     "output_type": "execute_result"
    }
   ],
   "source": [
    "\"Tokyo\" in city__employee_count"
   ]
  },
  {
   "cell_type": "code",
   "execution_count": 99,
   "metadata": {},
   "outputs": [
    {
     "data": {
      "text/plain": [
       "False"
      ]
     },
     "execution_count": 99,
     "metadata": {},
     "output_type": "execute_result"
    }
   ],
   "source": [
    "\"New York\" in city__employee_count"
   ]
  },
  {
   "attachments": {},
   "cell_type": "markdown",
   "metadata": {},
   "source": [
    "# Understanding DataFrame Objects"
   ]
  },
  {
   "cell_type": "code",
   "execution_count": 100,
   "metadata": {},
   "outputs": [],
   "source": [
    "city_data = pd.DataFrame({\n",
    "    \"revenue\" : city_revenues,\n",
    "    \"employee_count\": city__employee_count\n",
    "})"
   ]
  },
  {
   "cell_type": "code",
   "execution_count": 101,
   "metadata": {},
   "outputs": [
    {
     "data": {
      "text/html": [
       "<div>\n",
       "<style scoped>\n",
       "    .dataframe tbody tr th:only-of-type {\n",
       "        vertical-align: middle;\n",
       "    }\n",
       "\n",
       "    .dataframe tbody tr th {\n",
       "        vertical-align: top;\n",
       "    }\n",
       "\n",
       "    .dataframe thead th {\n",
       "        text-align: right;\n",
       "    }\n",
       "</style>\n",
       "<table border=\"1\" class=\"dataframe\">\n",
       "  <thead>\n",
       "    <tr style=\"text-align: right;\">\n",
       "      <th></th>\n",
       "      <th>revenue</th>\n",
       "      <th>employee_count</th>\n",
       "    </tr>\n",
       "  </thead>\n",
       "  <tbody>\n",
       "    <tr>\n",
       "      <th>Amsterdam</th>\n",
       "      <td>4200</td>\n",
       "      <td>5.0</td>\n",
       "    </tr>\n",
       "    <tr>\n",
       "      <th>Tokyo</th>\n",
       "      <td>6500</td>\n",
       "      <td>8.0</td>\n",
       "    </tr>\n",
       "    <tr>\n",
       "      <th>Toronto</th>\n",
       "      <td>8000</td>\n",
       "      <td>NaN</td>\n",
       "    </tr>\n",
       "  </tbody>\n",
       "</table>\n",
       "</div>"
      ],
      "text/plain": [
       "           revenue  employee_count\n",
       "Amsterdam     4200             5.0\n",
       "Tokyo         6500             8.0\n",
       "Toronto       8000             NaN"
      ]
     },
     "execution_count": 101,
     "metadata": {},
     "output_type": "execute_result"
    }
   ],
   "source": [
    "city_data"
   ]
  },
  {
   "cell_type": "code",
   "execution_count": 102,
   "metadata": {},
   "outputs": [
    {
     "data": {
      "text/plain": [
       "Index(['Amsterdam', 'Tokyo', 'Toronto'], dtype='object')"
      ]
     },
     "execution_count": 102,
     "metadata": {},
     "output_type": "execute_result"
    }
   ],
   "source": [
    "city_data.index"
   ]
  },
  {
   "cell_type": "code",
   "execution_count": 103,
   "metadata": {},
   "outputs": [
    {
     "data": {
      "text/plain": [
       "array([[4.2e+03, 5.0e+00],\n",
       "       [6.5e+03, 8.0e+00],\n",
       "       [8.0e+03,     nan]])"
      ]
     },
     "execution_count": 103,
     "metadata": {},
     "output_type": "execute_result"
    }
   ],
   "source": [
    "city_data.values  #array"
   ]
  },
  {
   "cell_type": "code",
   "execution_count": 104,
   "metadata": {},
   "outputs": [
    {
     "data": {
      "text/plain": [
       "[Index(['Amsterdam', 'Tokyo', 'Toronto'], dtype='object'),\n",
       " Index(['revenue', 'employee_count'], dtype='object')]"
      ]
     },
     "execution_count": 104,
     "metadata": {},
     "output_type": "execute_result"
    }
   ],
   "source": [
    "city_data.axes   #2D"
   ]
  },
  {
   "cell_type": "code",
   "execution_count": 105,
   "metadata": {},
   "outputs": [
    {
     "data": {
      "text/plain": [
       "Index(['Amsterdam', 'Tokyo', 'Toronto'], dtype='object')"
      ]
     },
     "execution_count": 105,
     "metadata": {},
     "output_type": "execute_result"
    }
   ],
   "source": [
    "city_data.axes[0]"
   ]
  },
  {
   "cell_type": "code",
   "execution_count": 106,
   "metadata": {},
   "outputs": [
    {
     "data": {
      "text/plain": [
       "Index(['revenue', 'employee_count'], dtype='object')"
      ]
     },
     "execution_count": 106,
     "metadata": {},
     "output_type": "execute_result"
    }
   ],
   "source": [
    "city_data.axes[1]"
   ]
  },
  {
   "cell_type": "code",
   "execution_count": 107,
   "metadata": {},
   "outputs": [
    {
     "data": {
      "text/plain": [
       "Index(['revenue', 'employee_count'], dtype='object')"
      ]
     },
     "execution_count": 107,
     "metadata": {},
     "output_type": "execute_result"
    }
   ],
   "source": [
    "city_data.keys()"
   ]
  },
  {
   "cell_type": "code",
   "execution_count": 108,
   "metadata": {},
   "outputs": [
    {
     "data": {
      "text/plain": [
       "False"
      ]
     },
     "execution_count": 108,
     "metadata": {},
     "output_type": "execute_result"
    }
   ],
   "source": [
    "\"Amsterdam\" in city_data"
   ]
  },
  {
   "cell_type": "code",
   "execution_count": 109,
   "metadata": {},
   "outputs": [
    {
     "data": {
      "text/plain": [
       "True"
      ]
     },
     "execution_count": 109,
     "metadata": {},
     "output_type": "execute_result"
    }
   ],
   "source": [
    "\"revenue\" in city_data"
   ]
  },
  {
   "cell_type": "code",
   "execution_count": 110,
   "metadata": {},
   "outputs": [
    {
     "data": {
      "text/plain": [
       "RangeIndex(start=0, stop=126314, step=1)"
      ]
     },
     "execution_count": 110,
     "metadata": {},
     "output_type": "execute_result"
    }
   ],
   "source": [
    "data.index"
   ]
  },
  {
   "cell_type": "code",
   "execution_count": 111,
   "metadata": {},
   "outputs": [
    {
     "data": {
      "text/plain": [
       "[RangeIndex(start=0, stop=126314, step=1),\n",
       " Index(['gameorder', 'game_id', 'lg_id', '_iscopy', 'year_id', 'date_game',\n",
       "        'seasongame', 'is_playoffs', 'team_id', 'fran_id', 'pts', 'elo_i',\n",
       "        'elo_n', 'win_equiv', 'opp_id', 'opp_fran', 'opp_pts', 'opp_elo_i',\n",
       "        'opp_elo_n', 'game_location', 'game_result', 'forecast', 'notes'],\n",
       "       dtype='object')]"
      ]
     },
     "execution_count": 111,
     "metadata": {},
     "output_type": "execute_result"
    }
   ],
   "source": [
    "data.axes"
   ]
  },
  {
   "cell_type": "code",
   "execution_count": 112,
   "metadata": {},
   "outputs": [
    {
     "data": {
      "text/plain": [
       "False"
      ]
     },
     "execution_count": 112,
     "metadata": {},
     "output_type": "execute_result"
    }
   ],
   "source": [
    "\"points\" in data.keys()"
   ]
  },
  {
   "cell_type": "code",
   "execution_count": 113,
   "metadata": {},
   "outputs": [
    {
     "data": {
      "text/plain": [
       "True"
      ]
     },
     "execution_count": 113,
     "metadata": {},
     "output_type": "execute_result"
    }
   ],
   "source": [
    "\"pts\" in data.keys()"
   ]
  },
  {
   "attachments": {},
   "cell_type": "markdown",
   "metadata": {},
   "source": [
    "# Accessing Series Elements"
   ]
  },
  {
   "cell_type": "code",
   "execution_count": 114,
   "metadata": {},
   "outputs": [
    {
     "data": {
      "text/plain": [
       "Amsterdam    4200\n",
       "Toronto      8000\n",
       "Tokyo        6500\n",
       "dtype: int64"
      ]
     },
     "execution_count": 114,
     "metadata": {},
     "output_type": "execute_result"
    }
   ],
   "source": [
    "city_revenues"
   ]
  },
  {
   "cell_type": "code",
   "execution_count": 115,
   "metadata": {},
   "outputs": [
    {
     "data": {
      "text/plain": [
       "8000"
      ]
     },
     "execution_count": 115,
     "metadata": {},
     "output_type": "execute_result"
    }
   ],
   "source": [
    "city_revenues[\"Toronto\"]"
   ]
  },
  {
   "cell_type": "code",
   "execution_count": 116,
   "metadata": {},
   "outputs": [
    {
     "data": {
      "text/plain": [
       "8000"
      ]
     },
     "execution_count": 116,
     "metadata": {},
     "output_type": "execute_result"
    }
   ],
   "source": [
    "city_revenues[1]"
   ]
  },
  {
   "cell_type": "code",
   "execution_count": 117,
   "metadata": {},
   "outputs": [
    {
     "data": {
      "text/plain": [
       "6500"
      ]
     },
     "execution_count": 117,
     "metadata": {},
     "output_type": "execute_result"
    }
   ],
   "source": [
    "city_revenues[-1]"
   ]
  },
  {
   "cell_type": "code",
   "execution_count": 118,
   "metadata": {},
   "outputs": [
    {
     "data": {
      "text/plain": [
       "Toronto    8000\n",
       "Tokyo      6500\n",
       "dtype: int64"
      ]
     },
     "execution_count": 118,
     "metadata": {},
     "output_type": "execute_result"
    }
   ],
   "source": [
    "city_revenues[1:]"
   ]
  },
  {
   "attachments": {},
   "cell_type": "markdown",
   "metadata": {},
   "source": [
    "# Using .loc and .iloc"
   ]
  },
  {
   "cell_type": "code",
   "execution_count": 119,
   "metadata": {},
   "outputs": [],
   "source": [
    "colors = pd.Series(\n",
    "    [\"red\", \"purple\", \"blue\", \"green\", \"yellow\"],\n",
    "    index=[1,2,3,5,8]\n",
    ")"
   ]
  },
  {
   "cell_type": "code",
   "execution_count": 120,
   "metadata": {},
   "outputs": [
    {
     "data": {
      "text/plain": [
       "1       red\n",
       "2    purple\n",
       "3      blue\n",
       "5     green\n",
       "8    yellow\n",
       "dtype: object"
      ]
     },
     "execution_count": 120,
     "metadata": {},
     "output_type": "execute_result"
    }
   ],
   "source": [
    "colors"
   ]
  },
  {
   "cell_type": "code",
   "execution_count": 121,
   "metadata": {},
   "outputs": [
    {
     "data": {
      "text/plain": [
       "'red'"
      ]
     },
     "execution_count": 121,
     "metadata": {},
     "output_type": "execute_result"
    }
   ],
   "source": [
    "colors.loc[1]"
   ]
  },
  {
   "cell_type": "code",
   "execution_count": 122,
   "metadata": {},
   "outputs": [
    {
     "data": {
      "text/plain": [
       "'purple'"
      ]
     },
     "execution_count": 122,
     "metadata": {},
     "output_type": "execute_result"
    }
   ],
   "source": [
    "colors.iloc[1]"
   ]
  },
  {
   "cell_type": "code",
   "execution_count": 123,
   "metadata": {},
   "outputs": [
    {
     "data": {
      "text/plain": [
       "2    purple\n",
       "3      blue\n",
       "dtype: object"
      ]
     },
     "execution_count": 123,
     "metadata": {},
     "output_type": "execute_result"
    }
   ],
   "source": [
    "colors.iloc[1:3]"
   ]
  },
  {
   "cell_type": "code",
   "execution_count": 124,
   "metadata": {},
   "outputs": [
    {
     "data": {
      "text/plain": [
       "3      blue\n",
       "5     green\n",
       "8    yellow\n",
       "dtype: object"
      ]
     },
     "execution_count": 124,
     "metadata": {},
     "output_type": "execute_result"
    }
   ],
   "source": [
    "colors.loc[3:8]"
   ]
  },
  {
   "cell_type": "code",
   "execution_count": 125,
   "metadata": {},
   "outputs": [
    {
     "data": {
      "text/plain": [
       "'green'"
      ]
     },
     "execution_count": 125,
     "metadata": {},
     "output_type": "execute_result"
    }
   ],
   "source": [
    "colors.iloc[-2]"
   ]
  },
  {
   "attachments": {},
   "cell_type": "markdown",
   "metadata": {},
   "source": [
    "# Accessing DataFrame Elements"
   ]
  },
  {
   "cell_type": "code",
   "execution_count": 126,
   "metadata": {},
   "outputs": [
    {
     "data": {
      "text/plain": [
       "Amsterdam    4200\n",
       "Tokyo        6500\n",
       "Toronto      8000\n",
       "Name: revenue, dtype: int64"
      ]
     },
     "execution_count": 126,
     "metadata": {},
     "output_type": "execute_result"
    }
   ],
   "source": [
    "city_data[\"revenue\"]"
   ]
  },
  {
   "cell_type": "code",
   "execution_count": 127,
   "metadata": {},
   "outputs": [
    {
     "data": {
      "text/plain": [
       "Amsterdam    4200\n",
       "Tokyo        6500\n",
       "Toronto      8000\n",
       "Name: revenue, dtype: int64"
      ]
     },
     "execution_count": 127,
     "metadata": {},
     "output_type": "execute_result"
    }
   ],
   "source": [
    "city_data.revenue"
   ]
  },
  {
   "cell_type": "code",
   "execution_count": 128,
   "metadata": {},
   "outputs": [],
   "source": [
    "toys=pd.DataFrame([\n",
    "    {\"name\": \"ball\", \"shape\": \"sphere\"},\n",
    "    {\"name\":\"rubik's cube\",\"shape\":\"cube\"}])"
   ]
  },
  {
   "cell_type": "code",
   "execution_count": 129,
   "metadata": {},
   "outputs": [
    {
     "data": {
      "text/plain": [
       "0    sphere\n",
       "1      cube\n",
       "Name: shape, dtype: object"
      ]
     },
     "execution_count": 129,
     "metadata": {},
     "output_type": "execute_result"
    }
   ],
   "source": [
    "toys[\"shape\"]"
   ]
  },
  {
   "cell_type": "code",
   "execution_count": 130,
   "metadata": {},
   "outputs": [
    {
     "data": {
      "text/plain": [
       "(2, 2)"
      ]
     },
     "execution_count": 130,
     "metadata": {},
     "output_type": "execute_result"
    }
   ],
   "source": [
    "toys.shape"
   ]
  },
  {
   "attachments": {},
   "cell_type": "markdown",
   "metadata": {},
   "source": [
    "# using.loc and .iloc\n",
    "\n"
   ]
  },
  {
   "cell_type": "code",
   "execution_count": 131,
   "metadata": {},
   "outputs": [
    {
     "data": {
      "text/plain": [
       "revenue           4200.0\n",
       "employee_count       5.0\n",
       "Name: Amsterdam, dtype: float64"
      ]
     },
     "execution_count": 131,
     "metadata": {},
     "output_type": "execute_result"
    }
   ],
   "source": [
    "city_data.loc[\"Amsterdam\"]"
   ]
  },
  {
   "cell_type": "code",
   "execution_count": 132,
   "metadata": {},
   "outputs": [
    {
     "data": {
      "text/html": [
       "<div>\n",
       "<style scoped>\n",
       "    .dataframe tbody tr th:only-of-type {\n",
       "        vertical-align: middle;\n",
       "    }\n",
       "\n",
       "    .dataframe tbody tr th {\n",
       "        vertical-align: top;\n",
       "    }\n",
       "\n",
       "    .dataframe thead th {\n",
       "        text-align: right;\n",
       "    }\n",
       "</style>\n",
       "<table border=\"1\" class=\"dataframe\">\n",
       "  <thead>\n",
       "    <tr style=\"text-align: right;\">\n",
       "      <th></th>\n",
       "      <th>revenue</th>\n",
       "      <th>employee_count</th>\n",
       "    </tr>\n",
       "  </thead>\n",
       "  <tbody>\n",
       "    <tr>\n",
       "      <th>Tokyo</th>\n",
       "      <td>6500</td>\n",
       "      <td>8.0</td>\n",
       "    </tr>\n",
       "    <tr>\n",
       "      <th>Toronto</th>\n",
       "      <td>8000</td>\n",
       "      <td>NaN</td>\n",
       "    </tr>\n",
       "  </tbody>\n",
       "</table>\n",
       "</div>"
      ],
      "text/plain": [
       "         revenue  employee_count\n",
       "Tokyo       6500             8.0\n",
       "Toronto     8000             NaN"
      ]
     },
     "execution_count": 132,
     "metadata": {},
     "output_type": "execute_result"
    }
   ],
   "source": [
    "city_data.loc[\"Tokyo\": \"Toronto\"]"
   ]
  },
  {
   "cell_type": "code",
   "execution_count": 133,
   "metadata": {},
   "outputs": [
    {
     "data": {
      "text/plain": [
       "revenue           6500.0\n",
       "employee_count       8.0\n",
       "Name: Tokyo, dtype: float64"
      ]
     },
     "execution_count": 133,
     "metadata": {},
     "output_type": "execute_result"
    }
   ],
   "source": [
    "city_data.iloc[1]"
   ]
  },
  {
   "cell_type": "code",
   "execution_count": 134,
   "metadata": {},
   "outputs": [
    {
     "data": {
      "text/plain": [
       "gameorder               63157\n",
       "game_id          201506170CLE\n",
       "lg_id                     NBA\n",
       "_iscopy                     0\n",
       "year_id                  2015\n",
       "date_game           6/16/2015\n",
       "seasongame                102\n",
       "is_playoffs                 1\n",
       "team_id                   CLE\n",
       "fran_id             Cavaliers\n",
       "pts                        97\n",
       "elo_i                 1700.74\n",
       "elo_n                 1692.09\n",
       "win_equiv               59.29\n",
       "opp_id                    GSW\n",
       "opp_fran             Warriors\n",
       "opp_pts                   105\n",
       "opp_elo_i             1813.63\n",
       "opp_elo_n             1822.29\n",
       "game_location               H\n",
       "game_result                 L\n",
       "forecast                 0.48\n",
       "notes                     NaN\n",
       "Name: 126312, dtype: object"
      ]
     },
     "execution_count": 134,
     "metadata": {},
     "output_type": "execute_result"
    }
   ],
   "source": [
    "data.iloc[-2]"
   ]
  },
  {
   "cell_type": "code",
   "execution_count": 135,
   "metadata": {},
   "outputs": [
    {
     "data": {
      "text/plain": [
       "Amsterdam    4200\n",
       "Tokyo        6500\n",
       "Name: revenue, dtype: int64"
      ]
     },
     "execution_count": 135,
     "metadata": {},
     "output_type": "execute_result"
    }
   ],
   "source": [
    "city_data.loc[\"Amsterdam\":\"Tokyo\",\"revenue\"]"
   ]
  },
  {
   "cell_type": "code",
   "execution_count": 136,
   "metadata": {},
   "outputs": [
    {
     "data": {
      "text/html": [
       "<div>\n",
       "<style scoped>\n",
       "    .dataframe tbody tr th:only-of-type {\n",
       "        vertical-align: middle;\n",
       "    }\n",
       "\n",
       "    .dataframe tbody tr th {\n",
       "        vertical-align: top;\n",
       "    }\n",
       "\n",
       "    .dataframe thead th {\n",
       "        text-align: right;\n",
       "    }\n",
       "</style>\n",
       "<table border=\"1\" class=\"dataframe\">\n",
       "  <thead>\n",
       "    <tr style=\"text-align: right;\">\n",
       "      <th></th>\n",
       "      <th>fran_id</th>\n",
       "      <th>opp_fran</th>\n",
       "      <th>pts</th>\n",
       "    </tr>\n",
       "  </thead>\n",
       "  <tbody>\n",
       "    <tr>\n",
       "      <th>5555</th>\n",
       "      <td>Pistons</td>\n",
       "      <td>Warriors</td>\n",
       "      <td>83</td>\n",
       "    </tr>\n",
       "    <tr>\n",
       "      <th>5556</th>\n",
       "      <td>Celtics</td>\n",
       "      <td>Knicks</td>\n",
       "      <td>95</td>\n",
       "    </tr>\n",
       "    <tr>\n",
       "      <th>5557</th>\n",
       "      <td>Knicks</td>\n",
       "      <td>Celtics</td>\n",
       "      <td>74</td>\n",
       "    </tr>\n",
       "    <tr>\n",
       "      <th>5558</th>\n",
       "      <td>Kings</td>\n",
       "      <td>Sixers</td>\n",
       "      <td>81</td>\n",
       "    </tr>\n",
       "    <tr>\n",
       "      <th>5559</th>\n",
       "      <td>Sixers</td>\n",
       "      <td>Kings</td>\n",
       "      <td>86</td>\n",
       "    </tr>\n",
       "  </tbody>\n",
       "</table>\n",
       "</div>"
      ],
      "text/plain": [
       "      fran_id  opp_fran  pts\n",
       "5555  Pistons  Warriors   83\n",
       "5556  Celtics    Knicks   95\n",
       "5557   Knicks   Celtics   74\n",
       "5558    Kings    Sixers   81\n",
       "5559   Sixers     Kings   86"
      ]
     },
     "execution_count": 136,
     "metadata": {},
     "output_type": "execute_result"
    }
   ],
   "source": [
    "data.loc[5555:5559,[\"fran_id\",\"opp_fran\",\"pts\",]]"
   ]
  },
  {
   "cell_type": "code",
   "execution_count": 137,
   "metadata": {},
   "outputs": [
    {
     "data": {
      "text/html": [
       "<div>\n",
       "<style scoped>\n",
       "    .dataframe tbody tr th:only-of-type {\n",
       "        vertical-align: middle;\n",
       "    }\n",
       "\n",
       "    .dataframe tbody tr th {\n",
       "        vertical-align: top;\n",
       "    }\n",
       "\n",
       "    .dataframe thead th {\n",
       "        text-align: right;\n",
       "    }\n",
       "</style>\n",
       "<table border=\"1\" class=\"dataframe\">\n",
       "  <thead>\n",
       "    <tr style=\"text-align: right;\">\n",
       "      <th></th>\n",
       "      <th>gameorder</th>\n",
       "      <th>game_id</th>\n",
       "      <th>lg_id</th>\n",
       "      <th>_iscopy</th>\n",
       "      <th>year_id</th>\n",
       "      <th>date_game</th>\n",
       "      <th>seasongame</th>\n",
       "      <th>is_playoffs</th>\n",
       "      <th>team_id</th>\n",
       "      <th>fran_id</th>\n",
       "      <th>pts</th>\n",
       "      <th>elo_i</th>\n",
       "      <th>elo_n</th>\n",
       "      <th>win_equiv</th>\n",
       "      <th>opp_id</th>\n",
       "      <th>opp_fran</th>\n",
       "      <th>opp_pts</th>\n",
       "      <th>opp_elo_i</th>\n",
       "      <th>opp_elo_n</th>\n",
       "      <th>game_location</th>\n",
       "      <th>game_result</th>\n",
       "      <th>forecast</th>\n",
       "      <th>notes</th>\n",
       "    </tr>\n",
       "  </thead>\n",
       "  <tbody>\n",
       "    <tr>\n",
       "      <th>0</th>\n",
       "      <td>1</td>\n",
       "      <td>194611010TRH</td>\n",
       "      <td>NBA</td>\n",
       "      <td>0</td>\n",
       "      <td>1947</td>\n",
       "      <td>11/1/1946</td>\n",
       "      <td>1</td>\n",
       "      <td>0</td>\n",
       "      <td>TRH</td>\n",
       "      <td>Huskies</td>\n",
       "      <td>66</td>\n",
       "      <td>1300.00</td>\n",
       "      <td>1293.28</td>\n",
       "      <td>40.29</td>\n",
       "      <td>NYK</td>\n",
       "      <td>Knicks</td>\n",
       "      <td>68</td>\n",
       "      <td>1300.00</td>\n",
       "      <td>1306.72</td>\n",
       "      <td>H</td>\n",
       "      <td>L</td>\n",
       "      <td>0.64</td>\n",
       "      <td>NaN</td>\n",
       "    </tr>\n",
       "    <tr>\n",
       "      <th>1</th>\n",
       "      <td>1</td>\n",
       "      <td>194611010TRH</td>\n",
       "      <td>NBA</td>\n",
       "      <td>1</td>\n",
       "      <td>1947</td>\n",
       "      <td>11/1/1946</td>\n",
       "      <td>1</td>\n",
       "      <td>0</td>\n",
       "      <td>NYK</td>\n",
       "      <td>Knicks</td>\n",
       "      <td>68</td>\n",
       "      <td>1300.00</td>\n",
       "      <td>1306.72</td>\n",
       "      <td>41.71</td>\n",
       "      <td>TRH</td>\n",
       "      <td>Huskies</td>\n",
       "      <td>66</td>\n",
       "      <td>1300.00</td>\n",
       "      <td>1293.28</td>\n",
       "      <td>A</td>\n",
       "      <td>W</td>\n",
       "      <td>0.36</td>\n",
       "      <td>NaN</td>\n",
       "    </tr>\n",
       "    <tr>\n",
       "      <th>2</th>\n",
       "      <td>2</td>\n",
       "      <td>194611020CHS</td>\n",
       "      <td>NBA</td>\n",
       "      <td>0</td>\n",
       "      <td>1947</td>\n",
       "      <td>11/2/1946</td>\n",
       "      <td>1</td>\n",
       "      <td>0</td>\n",
       "      <td>CHS</td>\n",
       "      <td>Stags</td>\n",
       "      <td>63</td>\n",
       "      <td>1300.00</td>\n",
       "      <td>1309.65</td>\n",
       "      <td>42.01</td>\n",
       "      <td>NYK</td>\n",
       "      <td>Knicks</td>\n",
       "      <td>47</td>\n",
       "      <td>1306.72</td>\n",
       "      <td>1297.07</td>\n",
       "      <td>H</td>\n",
       "      <td>W</td>\n",
       "      <td>0.63</td>\n",
       "      <td>NaN</td>\n",
       "    </tr>\n",
       "    <tr>\n",
       "      <th>3</th>\n",
       "      <td>2</td>\n",
       "      <td>194611020CHS</td>\n",
       "      <td>NBA</td>\n",
       "      <td>1</td>\n",
       "      <td>1947</td>\n",
       "      <td>11/2/1946</td>\n",
       "      <td>2</td>\n",
       "      <td>0</td>\n",
       "      <td>NYK</td>\n",
       "      <td>Knicks</td>\n",
       "      <td>47</td>\n",
       "      <td>1306.72</td>\n",
       "      <td>1297.07</td>\n",
       "      <td>40.69</td>\n",
       "      <td>CHS</td>\n",
       "      <td>Stags</td>\n",
       "      <td>63</td>\n",
       "      <td>1300.00</td>\n",
       "      <td>1309.65</td>\n",
       "      <td>A</td>\n",
       "      <td>L</td>\n",
       "      <td>0.37</td>\n",
       "      <td>NaN</td>\n",
       "    </tr>\n",
       "    <tr>\n",
       "      <th>4</th>\n",
       "      <td>3</td>\n",
       "      <td>194611020DTF</td>\n",
       "      <td>NBA</td>\n",
       "      <td>0</td>\n",
       "      <td>1947</td>\n",
       "      <td>11/2/1946</td>\n",
       "      <td>1</td>\n",
       "      <td>0</td>\n",
       "      <td>DTF</td>\n",
       "      <td>Falcons</td>\n",
       "      <td>33</td>\n",
       "      <td>1300.00</td>\n",
       "      <td>1279.62</td>\n",
       "      <td>38.86</td>\n",
       "      <td>WSC</td>\n",
       "      <td>Capitols</td>\n",
       "      <td>50</td>\n",
       "      <td>1300.00</td>\n",
       "      <td>1320.38</td>\n",
       "      <td>H</td>\n",
       "      <td>L</td>\n",
       "      <td>0.64</td>\n",
       "      <td>NaN</td>\n",
       "    </tr>\n",
       "    <tr>\n",
       "      <th>...</th>\n",
       "      <td>...</td>\n",
       "      <td>...</td>\n",
       "      <td>...</td>\n",
       "      <td>...</td>\n",
       "      <td>...</td>\n",
       "      <td>...</td>\n",
       "      <td>...</td>\n",
       "      <td>...</td>\n",
       "      <td>...</td>\n",
       "      <td>...</td>\n",
       "      <td>...</td>\n",
       "      <td>...</td>\n",
       "      <td>...</td>\n",
       "      <td>...</td>\n",
       "      <td>...</td>\n",
       "      <td>...</td>\n",
       "      <td>...</td>\n",
       "      <td>...</td>\n",
       "      <td>...</td>\n",
       "      <td>...</td>\n",
       "      <td>...</td>\n",
       "      <td>...</td>\n",
       "      <td>...</td>\n",
       "    </tr>\n",
       "    <tr>\n",
       "      <th>126309</th>\n",
       "      <td>63155</td>\n",
       "      <td>201506110CLE</td>\n",
       "      <td>NBA</td>\n",
       "      <td>0</td>\n",
       "      <td>2015</td>\n",
       "      <td>6/11/2015</td>\n",
       "      <td>100</td>\n",
       "      <td>1</td>\n",
       "      <td>CLE</td>\n",
       "      <td>Cavaliers</td>\n",
       "      <td>82</td>\n",
       "      <td>1723.41</td>\n",
       "      <td>1704.39</td>\n",
       "      <td>60.31</td>\n",
       "      <td>GSW</td>\n",
       "      <td>Warriors</td>\n",
       "      <td>103</td>\n",
       "      <td>1790.96</td>\n",
       "      <td>1809.98</td>\n",
       "      <td>H</td>\n",
       "      <td>L</td>\n",
       "      <td>0.55</td>\n",
       "      <td>NaN</td>\n",
       "    </tr>\n",
       "    <tr>\n",
       "      <th>126310</th>\n",
       "      <td>63156</td>\n",
       "      <td>201506140GSW</td>\n",
       "      <td>NBA</td>\n",
       "      <td>0</td>\n",
       "      <td>2015</td>\n",
       "      <td>6/14/2015</td>\n",
       "      <td>102</td>\n",
       "      <td>1</td>\n",
       "      <td>GSW</td>\n",
       "      <td>Warriors</td>\n",
       "      <td>104</td>\n",
       "      <td>1809.98</td>\n",
       "      <td>1813.63</td>\n",
       "      <td>68.01</td>\n",
       "      <td>CLE</td>\n",
       "      <td>Cavaliers</td>\n",
       "      <td>91</td>\n",
       "      <td>1704.39</td>\n",
       "      <td>1700.74</td>\n",
       "      <td>H</td>\n",
       "      <td>W</td>\n",
       "      <td>0.77</td>\n",
       "      <td>NaN</td>\n",
       "    </tr>\n",
       "    <tr>\n",
       "      <th>126311</th>\n",
       "      <td>63156</td>\n",
       "      <td>201506140GSW</td>\n",
       "      <td>NBA</td>\n",
       "      <td>1</td>\n",
       "      <td>2015</td>\n",
       "      <td>6/14/2015</td>\n",
       "      <td>101</td>\n",
       "      <td>1</td>\n",
       "      <td>CLE</td>\n",
       "      <td>Cavaliers</td>\n",
       "      <td>91</td>\n",
       "      <td>1704.39</td>\n",
       "      <td>1700.74</td>\n",
       "      <td>60.01</td>\n",
       "      <td>GSW</td>\n",
       "      <td>Warriors</td>\n",
       "      <td>104</td>\n",
       "      <td>1809.98</td>\n",
       "      <td>1813.63</td>\n",
       "      <td>A</td>\n",
       "      <td>L</td>\n",
       "      <td>0.23</td>\n",
       "      <td>NaN</td>\n",
       "    </tr>\n",
       "    <tr>\n",
       "      <th>126312</th>\n",
       "      <td>63157</td>\n",
       "      <td>201506170CLE</td>\n",
       "      <td>NBA</td>\n",
       "      <td>0</td>\n",
       "      <td>2015</td>\n",
       "      <td>6/16/2015</td>\n",
       "      <td>102</td>\n",
       "      <td>1</td>\n",
       "      <td>CLE</td>\n",
       "      <td>Cavaliers</td>\n",
       "      <td>97</td>\n",
       "      <td>1700.74</td>\n",
       "      <td>1692.09</td>\n",
       "      <td>59.29</td>\n",
       "      <td>GSW</td>\n",
       "      <td>Warriors</td>\n",
       "      <td>105</td>\n",
       "      <td>1813.63</td>\n",
       "      <td>1822.29</td>\n",
       "      <td>H</td>\n",
       "      <td>L</td>\n",
       "      <td>0.48</td>\n",
       "      <td>NaN</td>\n",
       "    </tr>\n",
       "    <tr>\n",
       "      <th>126313</th>\n",
       "      <td>63157</td>\n",
       "      <td>201506170CLE</td>\n",
       "      <td>NBA</td>\n",
       "      <td>1</td>\n",
       "      <td>2015</td>\n",
       "      <td>6/16/2015</td>\n",
       "      <td>103</td>\n",
       "      <td>1</td>\n",
       "      <td>GSW</td>\n",
       "      <td>Warriors</td>\n",
       "      <td>105</td>\n",
       "      <td>1813.63</td>\n",
       "      <td>1822.29</td>\n",
       "      <td>68.52</td>\n",
       "      <td>CLE</td>\n",
       "      <td>Cavaliers</td>\n",
       "      <td>97</td>\n",
       "      <td>1700.74</td>\n",
       "      <td>1692.09</td>\n",
       "      <td>A</td>\n",
       "      <td>W</td>\n",
       "      <td>0.52</td>\n",
       "      <td>NaN</td>\n",
       "    </tr>\n",
       "  </tbody>\n",
       "</table>\n",
       "<p>126314 rows × 23 columns</p>\n",
       "</div>"
      ],
      "text/plain": [
       "        gameorder       game_id lg_id  _iscopy  year_id  date_game  \\\n",
       "0               1  194611010TRH   NBA        0     1947  11/1/1946   \n",
       "1               1  194611010TRH   NBA        1     1947  11/1/1946   \n",
       "2               2  194611020CHS   NBA        0     1947  11/2/1946   \n",
       "3               2  194611020CHS   NBA        1     1947  11/2/1946   \n",
       "4               3  194611020DTF   NBA        0     1947  11/2/1946   \n",
       "...           ...           ...   ...      ...      ...        ...   \n",
       "126309      63155  201506110CLE   NBA        0     2015  6/11/2015   \n",
       "126310      63156  201506140GSW   NBA        0     2015  6/14/2015   \n",
       "126311      63156  201506140GSW   NBA        1     2015  6/14/2015   \n",
       "126312      63157  201506170CLE   NBA        0     2015  6/16/2015   \n",
       "126313      63157  201506170CLE   NBA        1     2015  6/16/2015   \n",
       "\n",
       "        seasongame  is_playoffs team_id    fran_id  pts    elo_i    elo_n  \\\n",
       "0                1            0     TRH    Huskies   66  1300.00  1293.28   \n",
       "1                1            0     NYK     Knicks   68  1300.00  1306.72   \n",
       "2                1            0     CHS      Stags   63  1300.00  1309.65   \n",
       "3                2            0     NYK     Knicks   47  1306.72  1297.07   \n",
       "4                1            0     DTF    Falcons   33  1300.00  1279.62   \n",
       "...            ...          ...     ...        ...  ...      ...      ...   \n",
       "126309         100            1     CLE  Cavaliers   82  1723.41  1704.39   \n",
       "126310         102            1     GSW   Warriors  104  1809.98  1813.63   \n",
       "126311         101            1     CLE  Cavaliers   91  1704.39  1700.74   \n",
       "126312         102            1     CLE  Cavaliers   97  1700.74  1692.09   \n",
       "126313         103            1     GSW   Warriors  105  1813.63  1822.29   \n",
       "\n",
       "        win_equiv opp_id   opp_fran  opp_pts  opp_elo_i  opp_elo_n  \\\n",
       "0           40.29    NYK     Knicks       68    1300.00    1306.72   \n",
       "1           41.71    TRH    Huskies       66    1300.00    1293.28   \n",
       "2           42.01    NYK     Knicks       47    1306.72    1297.07   \n",
       "3           40.69    CHS      Stags       63    1300.00    1309.65   \n",
       "4           38.86    WSC   Capitols       50    1300.00    1320.38   \n",
       "...           ...    ...        ...      ...        ...        ...   \n",
       "126309      60.31    GSW   Warriors      103    1790.96    1809.98   \n",
       "126310      68.01    CLE  Cavaliers       91    1704.39    1700.74   \n",
       "126311      60.01    GSW   Warriors      104    1809.98    1813.63   \n",
       "126312      59.29    GSW   Warriors      105    1813.63    1822.29   \n",
       "126313      68.52    CLE  Cavaliers       97    1700.74    1692.09   \n",
       "\n",
       "       game_location game_result  forecast notes  \n",
       "0                  H           L      0.64   NaN  \n",
       "1                  A           W      0.36   NaN  \n",
       "2                  H           W      0.63   NaN  \n",
       "3                  A           L      0.37   NaN  \n",
       "4                  H           L      0.64   NaN  \n",
       "...              ...         ...       ...   ...  \n",
       "126309             H           L      0.55   NaN  \n",
       "126310             H           W      0.77   NaN  \n",
       "126311             A           L      0.23   NaN  \n",
       "126312             H           L      0.48   NaN  \n",
       "126313             A           W      0.52   NaN  \n",
       "\n",
       "[126314 rows x 23 columns]"
      ]
     },
     "execution_count": 137,
     "metadata": {},
     "output_type": "execute_result"
    }
   ],
   "source": [
    "data"
   ]
  },
  {
   "cell_type": "code",
   "execution_count": 138,
   "metadata": {},
   "outputs": [],
   "source": [
    "current_decade=data[data[\"year_id\"]>2010]"
   ]
  },
  {
   "cell_type": "code",
   "execution_count": 139,
   "metadata": {},
   "outputs": [
    {
     "data": {
      "text/html": [
       "<div>\n",
       "<style scoped>\n",
       "    .dataframe tbody tr th:only-of-type {\n",
       "        vertical-align: middle;\n",
       "    }\n",
       "\n",
       "    .dataframe tbody tr th {\n",
       "        vertical-align: top;\n",
       "    }\n",
       "\n",
       "    .dataframe thead th {\n",
       "        text-align: right;\n",
       "    }\n",
       "</style>\n",
       "<table border=\"1\" class=\"dataframe\">\n",
       "  <thead>\n",
       "    <tr style=\"text-align: right;\">\n",
       "      <th></th>\n",
       "      <th>gameorder</th>\n",
       "      <th>game_id</th>\n",
       "      <th>lg_id</th>\n",
       "      <th>_iscopy</th>\n",
       "      <th>year_id</th>\n",
       "      <th>date_game</th>\n",
       "      <th>seasongame</th>\n",
       "      <th>is_playoffs</th>\n",
       "      <th>team_id</th>\n",
       "      <th>fran_id</th>\n",
       "      <th>pts</th>\n",
       "      <th>elo_i</th>\n",
       "      <th>elo_n</th>\n",
       "      <th>win_equiv</th>\n",
       "      <th>opp_id</th>\n",
       "      <th>opp_fran</th>\n",
       "      <th>opp_pts</th>\n",
       "      <th>opp_elo_i</th>\n",
       "      <th>opp_elo_n</th>\n",
       "      <th>game_location</th>\n",
       "      <th>game_result</th>\n",
       "      <th>forecast</th>\n",
       "      <th>notes</th>\n",
       "    </tr>\n",
       "  </thead>\n",
       "  <tbody>\n",
       "    <tr>\n",
       "      <th>113656</th>\n",
       "      <td>56829</td>\n",
       "      <td>201010260BOS</td>\n",
       "      <td>NBA</td>\n",
       "      <td>1</td>\n",
       "      <td>2011</td>\n",
       "      <td>10/26/2010</td>\n",
       "      <td>1</td>\n",
       "      <td>0</td>\n",
       "      <td>MIA</td>\n",
       "      <td>Heat</td>\n",
       "      <td>80</td>\n",
       "      <td>1547.36</td>\n",
       "      <td>1543.16</td>\n",
       "      <td>45.14</td>\n",
       "      <td>BOS</td>\n",
       "      <td>Celtics</td>\n",
       "      <td>88</td>\n",
       "      <td>1625.10</td>\n",
       "      <td>1629.30</td>\n",
       "      <td>A</td>\n",
       "      <td>L</td>\n",
       "      <td>0.26</td>\n",
       "      <td>NaN</td>\n",
       "    </tr>\n",
       "    <tr>\n",
       "      <th>113657</th>\n",
       "      <td>56829</td>\n",
       "      <td>201010260BOS</td>\n",
       "      <td>NBA</td>\n",
       "      <td>0</td>\n",
       "      <td>2011</td>\n",
       "      <td>10/26/2010</td>\n",
       "      <td>1</td>\n",
       "      <td>0</td>\n",
       "      <td>BOS</td>\n",
       "      <td>Celtics</td>\n",
       "      <td>88</td>\n",
       "      <td>1625.10</td>\n",
       "      <td>1629.30</td>\n",
       "      <td>53.75</td>\n",
       "      <td>MIA</td>\n",
       "      <td>Heat</td>\n",
       "      <td>80</td>\n",
       "      <td>1547.36</td>\n",
       "      <td>1543.16</td>\n",
       "      <td>H</td>\n",
       "      <td>W</td>\n",
       "      <td>0.74</td>\n",
       "      <td>NaN</td>\n",
       "    </tr>\n",
       "    <tr>\n",
       "      <th>113658</th>\n",
       "      <td>56830</td>\n",
       "      <td>201010260LAL</td>\n",
       "      <td>NBA</td>\n",
       "      <td>1</td>\n",
       "      <td>2011</td>\n",
       "      <td>10/26/2010</td>\n",
       "      <td>1</td>\n",
       "      <td>0</td>\n",
       "      <td>HOU</td>\n",
       "      <td>Rockets</td>\n",
       "      <td>110</td>\n",
       "      <td>1504.20</td>\n",
       "      <td>1502.60</td>\n",
       "      <td>40.90</td>\n",
       "      <td>LAL</td>\n",
       "      <td>Lakers</td>\n",
       "      <td>112</td>\n",
       "      <td>1647.60</td>\n",
       "      <td>1649.20</td>\n",
       "      <td>A</td>\n",
       "      <td>L</td>\n",
       "      <td>0.20</td>\n",
       "      <td>NaN</td>\n",
       "    </tr>\n",
       "    <tr>\n",
       "      <th>113659</th>\n",
       "      <td>56830</td>\n",
       "      <td>201010260LAL</td>\n",
       "      <td>NBA</td>\n",
       "      <td>0</td>\n",
       "      <td>2011</td>\n",
       "      <td>10/26/2010</td>\n",
       "      <td>1</td>\n",
       "      <td>0</td>\n",
       "      <td>LAL</td>\n",
       "      <td>Lakers</td>\n",
       "      <td>112</td>\n",
       "      <td>1647.60</td>\n",
       "      <td>1649.20</td>\n",
       "      <td>55.61</td>\n",
       "      <td>HOU</td>\n",
       "      <td>Rockets</td>\n",
       "      <td>110</td>\n",
       "      <td>1504.20</td>\n",
       "      <td>1502.60</td>\n",
       "      <td>H</td>\n",
       "      <td>W</td>\n",
       "      <td>0.80</td>\n",
       "      <td>NaN</td>\n",
       "    </tr>\n",
       "    <tr>\n",
       "      <th>113660</th>\n",
       "      <td>56831</td>\n",
       "      <td>201010260POR</td>\n",
       "      <td>NBA</td>\n",
       "      <td>1</td>\n",
       "      <td>2011</td>\n",
       "      <td>10/26/2010</td>\n",
       "      <td>1</td>\n",
       "      <td>0</td>\n",
       "      <td>PHO</td>\n",
       "      <td>Suns</td>\n",
       "      <td>92</td>\n",
       "      <td>1643.02</td>\n",
       "      <td>1630.62</td>\n",
       "      <td>53.88</td>\n",
       "      <td>POR</td>\n",
       "      <td>Trailblazers</td>\n",
       "      <td>106</td>\n",
       "      <td>1552.81</td>\n",
       "      <td>1565.22</td>\n",
       "      <td>A</td>\n",
       "      <td>L</td>\n",
       "      <td>0.49</td>\n",
       "      <td>NaN</td>\n",
       "    </tr>\n",
       "    <tr>\n",
       "      <th>...</th>\n",
       "      <td>...</td>\n",
       "      <td>...</td>\n",
       "      <td>...</td>\n",
       "      <td>...</td>\n",
       "      <td>...</td>\n",
       "      <td>...</td>\n",
       "      <td>...</td>\n",
       "      <td>...</td>\n",
       "      <td>...</td>\n",
       "      <td>...</td>\n",
       "      <td>...</td>\n",
       "      <td>...</td>\n",
       "      <td>...</td>\n",
       "      <td>...</td>\n",
       "      <td>...</td>\n",
       "      <td>...</td>\n",
       "      <td>...</td>\n",
       "      <td>...</td>\n",
       "      <td>...</td>\n",
       "      <td>...</td>\n",
       "      <td>...</td>\n",
       "      <td>...</td>\n",
       "      <td>...</td>\n",
       "    </tr>\n",
       "    <tr>\n",
       "      <th>126309</th>\n",
       "      <td>63155</td>\n",
       "      <td>201506110CLE</td>\n",
       "      <td>NBA</td>\n",
       "      <td>0</td>\n",
       "      <td>2015</td>\n",
       "      <td>6/11/2015</td>\n",
       "      <td>100</td>\n",
       "      <td>1</td>\n",
       "      <td>CLE</td>\n",
       "      <td>Cavaliers</td>\n",
       "      <td>82</td>\n",
       "      <td>1723.41</td>\n",
       "      <td>1704.39</td>\n",
       "      <td>60.31</td>\n",
       "      <td>GSW</td>\n",
       "      <td>Warriors</td>\n",
       "      <td>103</td>\n",
       "      <td>1790.96</td>\n",
       "      <td>1809.98</td>\n",
       "      <td>H</td>\n",
       "      <td>L</td>\n",
       "      <td>0.55</td>\n",
       "      <td>NaN</td>\n",
       "    </tr>\n",
       "    <tr>\n",
       "      <th>126310</th>\n",
       "      <td>63156</td>\n",
       "      <td>201506140GSW</td>\n",
       "      <td>NBA</td>\n",
       "      <td>0</td>\n",
       "      <td>2015</td>\n",
       "      <td>6/14/2015</td>\n",
       "      <td>102</td>\n",
       "      <td>1</td>\n",
       "      <td>GSW</td>\n",
       "      <td>Warriors</td>\n",
       "      <td>104</td>\n",
       "      <td>1809.98</td>\n",
       "      <td>1813.63</td>\n",
       "      <td>68.01</td>\n",
       "      <td>CLE</td>\n",
       "      <td>Cavaliers</td>\n",
       "      <td>91</td>\n",
       "      <td>1704.39</td>\n",
       "      <td>1700.74</td>\n",
       "      <td>H</td>\n",
       "      <td>W</td>\n",
       "      <td>0.77</td>\n",
       "      <td>NaN</td>\n",
       "    </tr>\n",
       "    <tr>\n",
       "      <th>126311</th>\n",
       "      <td>63156</td>\n",
       "      <td>201506140GSW</td>\n",
       "      <td>NBA</td>\n",
       "      <td>1</td>\n",
       "      <td>2015</td>\n",
       "      <td>6/14/2015</td>\n",
       "      <td>101</td>\n",
       "      <td>1</td>\n",
       "      <td>CLE</td>\n",
       "      <td>Cavaliers</td>\n",
       "      <td>91</td>\n",
       "      <td>1704.39</td>\n",
       "      <td>1700.74</td>\n",
       "      <td>60.01</td>\n",
       "      <td>GSW</td>\n",
       "      <td>Warriors</td>\n",
       "      <td>104</td>\n",
       "      <td>1809.98</td>\n",
       "      <td>1813.63</td>\n",
       "      <td>A</td>\n",
       "      <td>L</td>\n",
       "      <td>0.23</td>\n",
       "      <td>NaN</td>\n",
       "    </tr>\n",
       "    <tr>\n",
       "      <th>126312</th>\n",
       "      <td>63157</td>\n",
       "      <td>201506170CLE</td>\n",
       "      <td>NBA</td>\n",
       "      <td>0</td>\n",
       "      <td>2015</td>\n",
       "      <td>6/16/2015</td>\n",
       "      <td>102</td>\n",
       "      <td>1</td>\n",
       "      <td>CLE</td>\n",
       "      <td>Cavaliers</td>\n",
       "      <td>97</td>\n",
       "      <td>1700.74</td>\n",
       "      <td>1692.09</td>\n",
       "      <td>59.29</td>\n",
       "      <td>GSW</td>\n",
       "      <td>Warriors</td>\n",
       "      <td>105</td>\n",
       "      <td>1813.63</td>\n",
       "      <td>1822.29</td>\n",
       "      <td>H</td>\n",
       "      <td>L</td>\n",
       "      <td>0.48</td>\n",
       "      <td>NaN</td>\n",
       "    </tr>\n",
       "    <tr>\n",
       "      <th>126313</th>\n",
       "      <td>63157</td>\n",
       "      <td>201506170CLE</td>\n",
       "      <td>NBA</td>\n",
       "      <td>1</td>\n",
       "      <td>2015</td>\n",
       "      <td>6/16/2015</td>\n",
       "      <td>103</td>\n",
       "      <td>1</td>\n",
       "      <td>GSW</td>\n",
       "      <td>Warriors</td>\n",
       "      <td>105</td>\n",
       "      <td>1813.63</td>\n",
       "      <td>1822.29</td>\n",
       "      <td>68.52</td>\n",
       "      <td>CLE</td>\n",
       "      <td>Cavaliers</td>\n",
       "      <td>97</td>\n",
       "      <td>1700.74</td>\n",
       "      <td>1692.09</td>\n",
       "      <td>A</td>\n",
       "      <td>W</td>\n",
       "      <td>0.52</td>\n",
       "      <td>NaN</td>\n",
       "    </tr>\n",
       "  </tbody>\n",
       "</table>\n",
       "<p>12658 rows × 23 columns</p>\n",
       "</div>"
      ],
      "text/plain": [
       "        gameorder       game_id lg_id  _iscopy  year_id   date_game  \\\n",
       "113656      56829  201010260BOS   NBA        1     2011  10/26/2010   \n",
       "113657      56829  201010260BOS   NBA        0     2011  10/26/2010   \n",
       "113658      56830  201010260LAL   NBA        1     2011  10/26/2010   \n",
       "113659      56830  201010260LAL   NBA        0     2011  10/26/2010   \n",
       "113660      56831  201010260POR   NBA        1     2011  10/26/2010   \n",
       "...           ...           ...   ...      ...      ...         ...   \n",
       "126309      63155  201506110CLE   NBA        0     2015   6/11/2015   \n",
       "126310      63156  201506140GSW   NBA        0     2015   6/14/2015   \n",
       "126311      63156  201506140GSW   NBA        1     2015   6/14/2015   \n",
       "126312      63157  201506170CLE   NBA        0     2015   6/16/2015   \n",
       "126313      63157  201506170CLE   NBA        1     2015   6/16/2015   \n",
       "\n",
       "        seasongame  is_playoffs team_id    fran_id  pts    elo_i    elo_n  \\\n",
       "113656           1            0     MIA       Heat   80  1547.36  1543.16   \n",
       "113657           1            0     BOS    Celtics   88  1625.10  1629.30   \n",
       "113658           1            0     HOU    Rockets  110  1504.20  1502.60   \n",
       "113659           1            0     LAL     Lakers  112  1647.60  1649.20   \n",
       "113660           1            0     PHO       Suns   92  1643.02  1630.62   \n",
       "...            ...          ...     ...        ...  ...      ...      ...   \n",
       "126309         100            1     CLE  Cavaliers   82  1723.41  1704.39   \n",
       "126310         102            1     GSW   Warriors  104  1809.98  1813.63   \n",
       "126311         101            1     CLE  Cavaliers   91  1704.39  1700.74   \n",
       "126312         102            1     CLE  Cavaliers   97  1700.74  1692.09   \n",
       "126313         103            1     GSW   Warriors  105  1813.63  1822.29   \n",
       "\n",
       "        win_equiv opp_id      opp_fran  opp_pts  opp_elo_i  opp_elo_n  \\\n",
       "113656      45.14    BOS       Celtics       88    1625.10    1629.30   \n",
       "113657      53.75    MIA          Heat       80    1547.36    1543.16   \n",
       "113658      40.90    LAL        Lakers      112    1647.60    1649.20   \n",
       "113659      55.61    HOU       Rockets      110    1504.20    1502.60   \n",
       "113660      53.88    POR  Trailblazers      106    1552.81    1565.22   \n",
       "...           ...    ...           ...      ...        ...        ...   \n",
       "126309      60.31    GSW      Warriors      103    1790.96    1809.98   \n",
       "126310      68.01    CLE     Cavaliers       91    1704.39    1700.74   \n",
       "126311      60.01    GSW      Warriors      104    1809.98    1813.63   \n",
       "126312      59.29    GSW      Warriors      105    1813.63    1822.29   \n",
       "126313      68.52    CLE     Cavaliers       97    1700.74    1692.09   \n",
       "\n",
       "       game_location game_result  forecast notes  \n",
       "113656             A           L      0.26   NaN  \n",
       "113657             H           W      0.74   NaN  \n",
       "113658             A           L      0.20   NaN  \n",
       "113659             H           W      0.80   NaN  \n",
       "113660             A           L      0.49   NaN  \n",
       "...              ...         ...       ...   ...  \n",
       "126309             H           L      0.55   NaN  \n",
       "126310             H           W      0.77   NaN  \n",
       "126311             A           L      0.23   NaN  \n",
       "126312             H           L      0.48   NaN  \n",
       "126313             A           W      0.52   NaN  \n",
       "\n",
       "[12658 rows x 23 columns]"
      ]
     },
     "execution_count": 139,
     "metadata": {},
     "output_type": "execute_result"
    }
   ],
   "source": [
    "current_decade"
   ]
  },
  {
   "cell_type": "code",
   "execution_count": 140,
   "metadata": {},
   "outputs": [
    {
     "data": {
      "text/plain": [
       "(12658, 23)"
      ]
     },
     "execution_count": 140,
     "metadata": {},
     "output_type": "execute_result"
    }
   ],
   "source": [
    "current_decade.shape"
   ]
  }
 ],
 "metadata": {
  "kernelspec": {
   "display_name": "base",
   "language": "python",
   "name": "python3"
  },
  "language_info": {
   "codemirror_mode": {
    "name": "ipython",
    "version": 3
   },
   "file_extension": ".py",
   "mimetype": "text/x-python",
   "name": "python",
   "nbconvert_exporter": "python",
   "pygments_lexer": "ipython3",
   "version": "3.9.13"
  },
  "orig_nbformat": 4
 },
 "nbformat": 4,
 "nbformat_minor": 2
}
